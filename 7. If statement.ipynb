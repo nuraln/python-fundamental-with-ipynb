{
 "cells": [
  {
   "attachments": {},
   "cell_type": "markdown",
   "metadata": {},
   "source": [
    "# If Statement"
   ]
  },
  {
   "cell_type": "markdown",
   "metadata": {},
   "source": []
  },
  {
   "cell_type": "code",
   "execution_count": 1,
   "metadata": {},
   "outputs": [
    {
     "name": "stdout",
     "output_type": "stream",
     "text": [
      "true\n"
     ]
    }
   ],
   "source": [
    "if 1:\n",
    "    print('true')\n"
   ]
  },
  {
   "cell_type": "code",
   "execution_count": 2,
   "metadata": {},
   "outputs": [
    {
     "name": "stdout",
     "output_type": "stream",
     "text": [
      "false\n"
     ]
    }
   ],
   "source": [
    "if not 1: \n",
    "    print('true')\n",
    "else:\n",
    "    print('false')"
   ]
  },
  {
   "cell_type": "code",
   "execution_count": 3,
   "metadata": {},
   "outputs": [
    {
     "name": "stdout",
     "output_type": "stream",
     "text": [
      "Time to retire! \n"
     ]
    }
   ],
   "source": [
    "age = input('Enter your age: ')\n",
    "if int(age) * 365 > 20000:\n",
    "    print('Time to retire! ')\n",
    "elif int(age) * 365 > 10000:\n",
    "    print('Lots of time left!')\n",
    "else:\n",
    "    print('Time to get started!')"
   ]
  },
  {
   "cell_type": "code",
   "execution_count": 4,
   "metadata": {},
   "outputs": [
    {
     "name": "stdout",
     "output_type": "stream",
     "text": [
      "You are a Jedi Master now. Go learn from Master Nisaa!\n"
     ]
    }
   ],
   "source": [
    "user_age = input('Enter your age: ')\n",
    "age = int(user_age) * 365\n",
    "\n",
    "if age >= 9490:\n",
    "    print('You are a Jedi Master now. Go learn from Master Nisaa!')\n",
    "elif age >= 8395 and age < 9498:\n",
    "    print('Becoming Nisa Knight!')\n",
    "else: \n",
    "    print('You are a young padawan')"
   ]
  },
  {
   "cell_type": "code",
   "execution_count": 8,
   "metadata": {},
   "outputs": [],
   "source": [
    "x = 10\n",
    "y = 50 \n",
    "\n",
    "if (x ** 2 > 100 and y < 100): \n",
    "    print(x, y)"
   ]
  },
  {
   "cell_type": "code",
   "execution_count": null,
   "metadata": {},
   "outputs": [],
   "source": []
  }
 ],
 "metadata": {
  "kernelspec": {
   "display_name": "Python 3",
   "language": "python",
   "name": "python3"
  },
  "language_info": {
   "codemirror_mode": {
    "name": "ipython",
    "version": 3
   },
   "file_extension": ".py",
   "mimetype": "text/x-python",
   "name": "python",
   "nbconvert_exporter": "python",
   "pygments_lexer": "ipython3",
   "version": "3.11.2"
  },
  "orig_nbformat": 4
 },
 "nbformat": 4,
 "nbformat_minor": 2
}
